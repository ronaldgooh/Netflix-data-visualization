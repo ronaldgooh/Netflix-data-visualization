{
 "cells": [
  {
   "cell_type": "markdown",
   "id": "c163c56c",
   "metadata": {},
   "source": [
    "# Data Analysis: Netflix"
   ]
  },
  {
   "cell_type": "markdown",
   "id": "c534702c",
   "metadata": {},
   "source": [
    "## 1. Aims, objectives and background\n",
    "\n",
    "### 1.1 Introduction\n",
    "\n",
    "Data analysis has been used by many companies for a long time. With the main objective of looking for trends and answering questions using data visualization techniques.\n",
    "\n",
    "As one of the top streaming service in 2022, Netflix has been a staple to many households. From Tv shows to movies, there are over 17,000 titles worldwide. As an avid fan of Netflix, I have spent countless hours binging on the latest hits. Using this opportunity, I want to explore Netflix and its content.\n",
    "\n",
    "Being a huge company, analysing its data is will allow for Informed decision-making based on facts, Reduce costs by looking for  improvement opportunities, trends, and patterns in their data and plan their strategies accordingly, provide a better user recommendations by analysing their interest and behaviours.\n",
    "\n",
    "### 1.2 Aims and objectives\n",
    "Through this project, i would like to find out: \n",
    "- How much content there actually is\n",
    "- When did Netflix peaked\n",
    "- Look for any trends and relationships\n",
    "\n",
    "The aims for this project proposal are to:\n",
    "- Find a dataset that allows for data cleaning and analysis\n",
    "- Clean the data to make it usable\n",
    "- Visualizing the data using graph plotting techniques\n",
    "- Analyzing the data for trends and answering questions\n",
    "\n",
    "### 1.3 Data\n",
    "#### 1.3.1 Data acquisition and reliability\n",
    "After doing some research, I have found out the official Netflix API has been shutdown in 2014, This lead me to searching for datasets that are available on the internet. Which brought me to Kaggle, an online community platform for data scientists, that allows users to collaborate with other users, find and publish datasets. \n",
    "\n",
    "Based on the posting, the dataset was regularly updated up till September 2021 and based on the usability rating it scored a 10/10, showing this can be a trusted and reliable dataset.\n",
    "\n",
    "#### 1.3.2 Data type and suitability\n",
    "The dataset is in the CSV format allowing it to be easily used with Pandas. It consists of the main information such as title, country, date added etc, this allows us to answer the questions that i have posed.\n",
    "\n",
    "#### 1.3.3 Time period\n",
    "The years provided in the dataset span from 1925 - 2021. However, having only a small quantity of titles (<10) in that particular year, it would not make a significant impact on the changes of the data. Hence, we will be focusing mainly on 2000 - 2021.\n",
    "\n",
    "### 1.4 Ethical consideration\n",
    "#### 1.4.1 copyrights\n",
    "Based on Kaggle's terms, I am allowed to use it as long as it is for personal and non-commercial. For specific copyrights, they will be displayed on the dataset page. \n",
    "\n",
    "After looking through, I found the license on the dataset's page, CC0: Public Domain, which states \"The person who associated a work with this deed has dedicated the work to the public domain by waiving all of his or her rights to the work worldwide under copyright law, including all related and neighboring rights, to the extent allowed by law.\n",
    "You can copy, modify, distribute and perform the work, even for commercial purposes, all without asking permission.\" Thus, the data is dafe to use.\n",
    "\n",
    "#### 1.4.2 Reusage of data\n",
    "The legality of the dataset has been confimed as of writing. Anyone planning on using the dataset provided may refer to the link in the references for the terms and conditions to prevent any infringement of the law. \n",
    "\n",
    "#### 1.4.2 Potential impacts\n",
    "As this project is used for personal and educational use, any conclusions from this project will be based on assumptions after looking at the graphs and should not be used as a professional analytical judgement.\n"
   ]
  },
  {
   "cell_type": "markdown",
   "id": "1a17b899",
   "metadata": {},
   "source": [
    "## 2. Importing Data and libraries\n",
    "importing the required libraries for data visulization"
   ]
  },
  {
   "cell_type": "code",
   "execution_count": 1,
   "id": "cc72aebc",
   "metadata": {},
   "outputs": [],
   "source": [
    "import os \n",
    "import pandas as pd\n",
    "import numpy as np\n",
    "import matplotlib.pyplot as plt\n",
    "%matplotlib inline\n",
    "import seaborn as sns\n",
    "import plotly.graph_objects as pgo\n"
   ]
  },
  {
   "cell_type": "markdown",
   "id": "959530de",
   "metadata": {},
   "source": [
    "Applying error handling methods, in case a file is not available."
   ]
  },
  {
   "cell_type": "code",
   "execution_count": 2,
   "id": "d976b857",
   "metadata": {},
   "outputs": [],
   "source": [
    "try:\n",
    "    netflix = pd.read_csv('netflix_titles.csv')\n",
    "except FileNotFoundError:\n",
    "    print(\"File does not exist\")"
   ]
  },
  {
   "cell_type": "markdown",
   "id": "5762c070",
   "metadata": {},
   "source": [
    "Original dataset with missing values"
   ]
  },
  {
   "cell_type": "code",
   "execution_count": 3,
   "id": "d289b09c",
   "metadata": {},
   "outputs": [
    {
     "data": {
      "text/html": [
       "<div>\n",
       "<style scoped>\n",
       "    .dataframe tbody tr th:only-of-type {\n",
       "        vertical-align: middle;\n",
       "    }\n",
       "\n",
       "    .dataframe tbody tr th {\n",
       "        vertical-align: top;\n",
       "    }\n",
       "\n",
       "    .dataframe thead th {\n",
       "        text-align: right;\n",
       "    }\n",
       "</style>\n",
       "<table border=\"1\" class=\"dataframe\">\n",
       "  <thead>\n",
       "    <tr style=\"text-align: right;\">\n",
       "      <th></th>\n",
       "      <th>show_id</th>\n",
       "      <th>type</th>\n",
       "      <th>title</th>\n",
       "      <th>director</th>\n",
       "      <th>cast</th>\n",
       "      <th>country</th>\n",
       "      <th>date_added</th>\n",
       "      <th>release_year</th>\n",
       "      <th>rating</th>\n",
       "      <th>duration</th>\n",
       "      <th>listed_in</th>\n",
       "      <th>description</th>\n",
       "    </tr>\n",
       "  </thead>\n",
       "  <tbody>\n",
       "    <tr>\n",
       "      <th>0</th>\n",
       "      <td>s1</td>\n",
       "      <td>Movie</td>\n",
       "      <td>Dick Johnson Is Dead</td>\n",
       "      <td>Kirsten Johnson</td>\n",
       "      <td>NaN</td>\n",
       "      <td>United States</td>\n",
       "      <td>September 25, 2021</td>\n",
       "      <td>2020</td>\n",
       "      <td>PG-13</td>\n",
       "      <td>90 min</td>\n",
       "      <td>Documentaries</td>\n",
       "      <td>As her father nears the end of his life, filmm...</td>\n",
       "    </tr>\n",
       "    <tr>\n",
       "      <th>1</th>\n",
       "      <td>s2</td>\n",
       "      <td>TV Show</td>\n",
       "      <td>Blood &amp; Water</td>\n",
       "      <td>NaN</td>\n",
       "      <td>Ama Qamata, Khosi Ngema, Gail Mabalane, Thaban...</td>\n",
       "      <td>South Africa</td>\n",
       "      <td>September 24, 2021</td>\n",
       "      <td>2021</td>\n",
       "      <td>TV-MA</td>\n",
       "      <td>2 Seasons</td>\n",
       "      <td>International TV Shows, TV Dramas, TV Mysteries</td>\n",
       "      <td>After crossing paths at a party, a Cape Town t...</td>\n",
       "    </tr>\n",
       "    <tr>\n",
       "      <th>2</th>\n",
       "      <td>s3</td>\n",
       "      <td>TV Show</td>\n",
       "      <td>Ganglands</td>\n",
       "      <td>Julien Leclercq</td>\n",
       "      <td>Sami Bouajila, Tracy Gotoas, Samuel Jouy, Nabi...</td>\n",
       "      <td>NaN</td>\n",
       "      <td>September 24, 2021</td>\n",
       "      <td>2021</td>\n",
       "      <td>TV-MA</td>\n",
       "      <td>1 Season</td>\n",
       "      <td>Crime TV Shows, International TV Shows, TV Act...</td>\n",
       "      <td>To protect his family from a powerful drug lor...</td>\n",
       "    </tr>\n",
       "    <tr>\n",
       "      <th>3</th>\n",
       "      <td>s4</td>\n",
       "      <td>TV Show</td>\n",
       "      <td>Jailbirds New Orleans</td>\n",
       "      <td>NaN</td>\n",
       "      <td>NaN</td>\n",
       "      <td>NaN</td>\n",
       "      <td>September 24, 2021</td>\n",
       "      <td>2021</td>\n",
       "      <td>TV-MA</td>\n",
       "      <td>1 Season</td>\n",
       "      <td>Docuseries, Reality TV</td>\n",
       "      <td>Feuds, flirtations and toilet talk go down amo...</td>\n",
       "    </tr>\n",
       "    <tr>\n",
       "      <th>4</th>\n",
       "      <td>s5</td>\n",
       "      <td>TV Show</td>\n",
       "      <td>Kota Factory</td>\n",
       "      <td>NaN</td>\n",
       "      <td>Mayur More, Jitendra Kumar, Ranjan Raj, Alam K...</td>\n",
       "      <td>India</td>\n",
       "      <td>September 24, 2021</td>\n",
       "      <td>2021</td>\n",
       "      <td>TV-MA</td>\n",
       "      <td>2 Seasons</td>\n",
       "      <td>International TV Shows, Romantic TV Shows, TV ...</td>\n",
       "      <td>In a city of coaching centers known to train I...</td>\n",
       "    </tr>\n",
       "    <tr>\n",
       "      <th>...</th>\n",
       "      <td>...</td>\n",
       "      <td>...</td>\n",
       "      <td>...</td>\n",
       "      <td>...</td>\n",
       "      <td>...</td>\n",
       "      <td>...</td>\n",
       "      <td>...</td>\n",
       "      <td>...</td>\n",
       "      <td>...</td>\n",
       "      <td>...</td>\n",
       "      <td>...</td>\n",
       "      <td>...</td>\n",
       "    </tr>\n",
       "    <tr>\n",
       "      <th>8802</th>\n",
       "      <td>s8803</td>\n",
       "      <td>Movie</td>\n",
       "      <td>Zodiac</td>\n",
       "      <td>David Fincher</td>\n",
       "      <td>Mark Ruffalo, Jake Gyllenhaal, Robert Downey J...</td>\n",
       "      <td>United States</td>\n",
       "      <td>November 20, 2019</td>\n",
       "      <td>2007</td>\n",
       "      <td>R</td>\n",
       "      <td>158 min</td>\n",
       "      <td>Cult Movies, Dramas, Thrillers</td>\n",
       "      <td>A political cartoonist, a crime reporter and a...</td>\n",
       "    </tr>\n",
       "    <tr>\n",
       "      <th>8803</th>\n",
       "      <td>s8804</td>\n",
       "      <td>TV Show</td>\n",
       "      <td>Zombie Dumb</td>\n",
       "      <td>NaN</td>\n",
       "      <td>NaN</td>\n",
       "      <td>NaN</td>\n",
       "      <td>July 1, 2019</td>\n",
       "      <td>2018</td>\n",
       "      <td>TV-Y7</td>\n",
       "      <td>2 Seasons</td>\n",
       "      <td>Kids' TV, Korean TV Shows, TV Comedies</td>\n",
       "      <td>While living alone in a spooky town, a young g...</td>\n",
       "    </tr>\n",
       "    <tr>\n",
       "      <th>8804</th>\n",
       "      <td>s8805</td>\n",
       "      <td>Movie</td>\n",
       "      <td>Zombieland</td>\n",
       "      <td>Ruben Fleischer</td>\n",
       "      <td>Jesse Eisenberg, Woody Harrelson, Emma Stone, ...</td>\n",
       "      <td>United States</td>\n",
       "      <td>November 1, 2019</td>\n",
       "      <td>2009</td>\n",
       "      <td>R</td>\n",
       "      <td>88 min</td>\n",
       "      <td>Comedies, Horror Movies</td>\n",
       "      <td>Looking to survive in a world taken over by zo...</td>\n",
       "    </tr>\n",
       "    <tr>\n",
       "      <th>8805</th>\n",
       "      <td>s8806</td>\n",
       "      <td>Movie</td>\n",
       "      <td>Zoom</td>\n",
       "      <td>Peter Hewitt</td>\n",
       "      <td>Tim Allen, Courteney Cox, Chevy Chase, Kate Ma...</td>\n",
       "      <td>United States</td>\n",
       "      <td>January 11, 2020</td>\n",
       "      <td>2006</td>\n",
       "      <td>PG</td>\n",
       "      <td>88 min</td>\n",
       "      <td>Children &amp; Family Movies, Comedies</td>\n",
       "      <td>Dragged from civilian life, a former superhero...</td>\n",
       "    </tr>\n",
       "    <tr>\n",
       "      <th>8806</th>\n",
       "      <td>s8807</td>\n",
       "      <td>Movie</td>\n",
       "      <td>Zubaan</td>\n",
       "      <td>Mozez Singh</td>\n",
       "      <td>Vicky Kaushal, Sarah-Jane Dias, Raaghav Chanan...</td>\n",
       "      <td>India</td>\n",
       "      <td>March 2, 2019</td>\n",
       "      <td>2015</td>\n",
       "      <td>TV-14</td>\n",
       "      <td>111 min</td>\n",
       "      <td>Dramas, International Movies, Music &amp; Musicals</td>\n",
       "      <td>A scrappy but poor boy worms his way into a ty...</td>\n",
       "    </tr>\n",
       "  </tbody>\n",
       "</table>\n",
       "<p>8807 rows × 12 columns</p>\n",
       "</div>"
      ],
      "text/plain": [
       "     show_id     type                  title         director  \\\n",
       "0         s1    Movie   Dick Johnson Is Dead  Kirsten Johnson   \n",
       "1         s2  TV Show          Blood & Water              NaN   \n",
       "2         s3  TV Show              Ganglands  Julien Leclercq   \n",
       "3         s4  TV Show  Jailbirds New Orleans              NaN   \n",
       "4         s5  TV Show           Kota Factory              NaN   \n",
       "...      ...      ...                    ...              ...   \n",
       "8802   s8803    Movie                 Zodiac    David Fincher   \n",
       "8803   s8804  TV Show            Zombie Dumb              NaN   \n",
       "8804   s8805    Movie             Zombieland  Ruben Fleischer   \n",
       "8805   s8806    Movie                   Zoom     Peter Hewitt   \n",
       "8806   s8807    Movie                 Zubaan      Mozez Singh   \n",
       "\n",
       "                                                   cast        country  \\\n",
       "0                                                   NaN  United States   \n",
       "1     Ama Qamata, Khosi Ngema, Gail Mabalane, Thaban...   South Africa   \n",
       "2     Sami Bouajila, Tracy Gotoas, Samuel Jouy, Nabi...            NaN   \n",
       "3                                                   NaN            NaN   \n",
       "4     Mayur More, Jitendra Kumar, Ranjan Raj, Alam K...          India   \n",
       "...                                                 ...            ...   \n",
       "8802  Mark Ruffalo, Jake Gyllenhaal, Robert Downey J...  United States   \n",
       "8803                                                NaN            NaN   \n",
       "8804  Jesse Eisenberg, Woody Harrelson, Emma Stone, ...  United States   \n",
       "8805  Tim Allen, Courteney Cox, Chevy Chase, Kate Ma...  United States   \n",
       "8806  Vicky Kaushal, Sarah-Jane Dias, Raaghav Chanan...          India   \n",
       "\n",
       "              date_added  release_year rating   duration  \\\n",
       "0     September 25, 2021          2020  PG-13     90 min   \n",
       "1     September 24, 2021          2021  TV-MA  2 Seasons   \n",
       "2     September 24, 2021          2021  TV-MA   1 Season   \n",
       "3     September 24, 2021          2021  TV-MA   1 Season   \n",
       "4     September 24, 2021          2021  TV-MA  2 Seasons   \n",
       "...                  ...           ...    ...        ...   \n",
       "8802   November 20, 2019          2007      R    158 min   \n",
       "8803        July 1, 2019          2018  TV-Y7  2 Seasons   \n",
       "8804    November 1, 2019          2009      R     88 min   \n",
       "8805    January 11, 2020          2006     PG     88 min   \n",
       "8806       March 2, 2019          2015  TV-14    111 min   \n",
       "\n",
       "                                              listed_in  \\\n",
       "0                                         Documentaries   \n",
       "1       International TV Shows, TV Dramas, TV Mysteries   \n",
       "2     Crime TV Shows, International TV Shows, TV Act...   \n",
       "3                                Docuseries, Reality TV   \n",
       "4     International TV Shows, Romantic TV Shows, TV ...   \n",
       "...                                                 ...   \n",
       "8802                     Cult Movies, Dramas, Thrillers   \n",
       "8803             Kids' TV, Korean TV Shows, TV Comedies   \n",
       "8804                            Comedies, Horror Movies   \n",
       "8805                 Children & Family Movies, Comedies   \n",
       "8806     Dramas, International Movies, Music & Musicals   \n",
       "\n",
       "                                            description  \n",
       "0     As her father nears the end of his life, filmm...  \n",
       "1     After crossing paths at a party, a Cape Town t...  \n",
       "2     To protect his family from a powerful drug lor...  \n",
       "3     Feuds, flirtations and toilet talk go down amo...  \n",
       "4     In a city of coaching centers known to train I...  \n",
       "...                                                 ...  \n",
       "8802  A political cartoonist, a crime reporter and a...  \n",
       "8803  While living alone in a spooky town, a young g...  \n",
       "8804  Looking to survive in a world taken over by zo...  \n",
       "8805  Dragged from civilian life, a former superhero...  \n",
       "8806  A scrappy but poor boy worms his way into a ty...  \n",
       "\n",
       "[8807 rows x 12 columns]"
      ]
     },
     "execution_count": 3,
     "metadata": {},
     "output_type": "execute_result"
    }
   ],
   "source": [
    "netflix"
   ]
  },
  {
   "cell_type": "markdown",
   "id": "aaa04a15",
   "metadata": {},
   "source": [
    "## 3. Data cleaning and processing\n",
    "Before  plotting any graphs, I need to ensure that the dataset does not have any missing data values by:\n",
    "1. scanning through the data set and calculating the percentage of missing values\n",
    "2. Filling up missing data with as much relevant details\n",
    "3. Remaining missing data will be dropped"
   ]
  },
  {
   "cell_type": "markdown",
   "id": "989b0356",
   "metadata": {},
   "source": [
    "### 3.1 Calculation of missing data in percentage"
   ]
  },
  {
   "cell_type": "code",
   "execution_count": 4,
   "id": "d5c78331",
   "metadata": {},
   "outputs": [
    {
     "name": "stdout",
     "output_type": "stream",
     "text": [
      "director NaN rate is 29.91%\n",
      "cast NaN rate is 9.37%\n",
      "country NaN rate is 9.44%\n",
      "date_added NaN rate is 0.11%\n",
      "rating NaN rate is 0.05%\n",
      "duration NaN rate is 0.03%\n"
     ]
    }
   ],
   "source": [
    "for i in netflix.columns:\n",
    "    nullPercentage = netflix[i].isna().sum() / len(netflix)*100\n",
    "    if nullPercentage > 0 :\n",
    "        print(f\"{i} NaN rate is {round(nullPercentage,2)}%\") "
   ]
  },
  {
   "cell_type": "markdown",
   "id": "4d7b5bd8",
   "metadata": {},
   "source": [
    "There are 6 columns that have missing values.\n",
    "- Director and cast's information is missing a big portion, although it is not important for the purpose of data analysis,it is vital so that it will not be dropped later on.\n",
    "- Country's information is vital for our data analysis, hence, it is vital to fill it up with the most repeated country. This will not impact the the data analysis results later on.\n",
    "- date_added, rating and duration will be dropped as their amount will have little impact on the dataset."
   ]
  },
  {
   "cell_type": "code",
   "execution_count": 5,
   "id": "950a17c0",
   "metadata": {},
   "outputs": [],
   "source": [
    "netflix[\"cast\"].fillna(\"No Data\", inplace=True)\n",
    "netflix[\"director\"].fillna(\"No Data\", inplace=True)\n",
    "netflix[\"country\"].fillna(netflix[\"country\"].mode()[0])\n",
    "netflix.dropna(inplace= True)\n",
    "netflix.drop_duplicates(inplace=True) #drop duplicate rows"
   ]
  },
  {
   "cell_type": "markdown",
   "id": "b824543f",
   "metadata": {},
   "source": [
    "Double checking all missing values has been filled or removed."
   ]
  },
  {
   "cell_type": "code",
   "execution_count": 6,
   "id": "9e398b7c",
   "metadata": {},
   "outputs": [
    {
     "name": "stdout",
     "output_type": "stream",
     "text": [
      "no missing values\n",
      "no missing values\n",
      "no missing values\n",
      "no missing values\n",
      "no missing values\n",
      "no missing values\n",
      "no missing values\n",
      "no missing values\n",
      "no missing values\n",
      "no missing values\n",
      "no missing values\n",
      "no missing values\n"
     ]
    }
   ],
   "source": [
    "for i in netflix.columns:\n",
    "    nullPercentage = netflix[i].isna().sum() / len(netflix)*100\n",
    "    if nullPercentage > 0 :\n",
    "        print(f\"{i} NaN rate is {round(nullPercentage,2)}%\")\n",
    "    else:\n",
    "        print(\"no missing values\")"
   ]
  },
  {
   "cell_type": "markdown",
   "id": "bca05d99",
   "metadata": {},
   "source": [
    "Dataset after cleaning"
   ]
  },
  {
   "cell_type": "code",
   "execution_count": 7,
   "id": "e2707bbd",
   "metadata": {},
   "outputs": [
    {
     "data": {
      "text/html": [
       "<div>\n",
       "<style scoped>\n",
       "    .dataframe tbody tr th:only-of-type {\n",
       "        vertical-align: middle;\n",
       "    }\n",
       "\n",
       "    .dataframe tbody tr th {\n",
       "        vertical-align: top;\n",
       "    }\n",
       "\n",
       "    .dataframe thead th {\n",
       "        text-align: right;\n",
       "    }\n",
       "</style>\n",
       "<table border=\"1\" class=\"dataframe\">\n",
       "  <thead>\n",
       "    <tr style=\"text-align: right;\">\n",
       "      <th></th>\n",
       "      <th>show_id</th>\n",
       "      <th>type</th>\n",
       "      <th>title</th>\n",
       "      <th>director</th>\n",
       "      <th>cast</th>\n",
       "      <th>country</th>\n",
       "      <th>date_added</th>\n",
       "      <th>release_year</th>\n",
       "      <th>rating</th>\n",
       "      <th>duration</th>\n",
       "      <th>listed_in</th>\n",
       "      <th>description</th>\n",
       "    </tr>\n",
       "  </thead>\n",
       "  <tbody>\n",
       "    <tr>\n",
       "      <th>0</th>\n",
       "      <td>s1</td>\n",
       "      <td>Movie</td>\n",
       "      <td>Dick Johnson Is Dead</td>\n",
       "      <td>Kirsten Johnson</td>\n",
       "      <td>No Data</td>\n",
       "      <td>United States</td>\n",
       "      <td>September 25, 2021</td>\n",
       "      <td>2020</td>\n",
       "      <td>PG-13</td>\n",
       "      <td>90 min</td>\n",
       "      <td>Documentaries</td>\n",
       "      <td>As her father nears the end of his life, filmm...</td>\n",
       "    </tr>\n",
       "    <tr>\n",
       "      <th>1</th>\n",
       "      <td>s2</td>\n",
       "      <td>TV Show</td>\n",
       "      <td>Blood &amp; Water</td>\n",
       "      <td>No Data</td>\n",
       "      <td>Ama Qamata, Khosi Ngema, Gail Mabalane, Thaban...</td>\n",
       "      <td>South Africa</td>\n",
       "      <td>September 24, 2021</td>\n",
       "      <td>2021</td>\n",
       "      <td>TV-MA</td>\n",
       "      <td>2 Seasons</td>\n",
       "      <td>International TV Shows, TV Dramas, TV Mysteries</td>\n",
       "      <td>After crossing paths at a party, a Cape Town t...</td>\n",
       "    </tr>\n",
       "    <tr>\n",
       "      <th>4</th>\n",
       "      <td>s5</td>\n",
       "      <td>TV Show</td>\n",
       "      <td>Kota Factory</td>\n",
       "      <td>No Data</td>\n",
       "      <td>Mayur More, Jitendra Kumar, Ranjan Raj, Alam K...</td>\n",
       "      <td>India</td>\n",
       "      <td>September 24, 2021</td>\n",
       "      <td>2021</td>\n",
       "      <td>TV-MA</td>\n",
       "      <td>2 Seasons</td>\n",
       "      <td>International TV Shows, Romantic TV Shows, TV ...</td>\n",
       "      <td>In a city of coaching centers known to train I...</td>\n",
       "    </tr>\n",
       "    <tr>\n",
       "      <th>7</th>\n",
       "      <td>s8</td>\n",
       "      <td>Movie</td>\n",
       "      <td>Sankofa</td>\n",
       "      <td>Haile Gerima</td>\n",
       "      <td>Kofi Ghanaba, Oyafunmike Ogunlano, Alexandra D...</td>\n",
       "      <td>United States, Ghana, Burkina Faso, United Kin...</td>\n",
       "      <td>September 24, 2021</td>\n",
       "      <td>1993</td>\n",
       "      <td>TV-MA</td>\n",
       "      <td>125 min</td>\n",
       "      <td>Dramas, Independent Movies, International Movies</td>\n",
       "      <td>On a photo shoot in Ghana, an American model s...</td>\n",
       "    </tr>\n",
       "    <tr>\n",
       "      <th>8</th>\n",
       "      <td>s9</td>\n",
       "      <td>TV Show</td>\n",
       "      <td>The Great British Baking Show</td>\n",
       "      <td>Andy Devonshire</td>\n",
       "      <td>Mel Giedroyc, Sue Perkins, Mary Berry, Paul Ho...</td>\n",
       "      <td>United Kingdom</td>\n",
       "      <td>September 24, 2021</td>\n",
       "      <td>2021</td>\n",
       "      <td>TV-14</td>\n",
       "      <td>9 Seasons</td>\n",
       "      <td>British TV Shows, Reality TV</td>\n",
       "      <td>A talented batch of amateur bakers face off in...</td>\n",
       "    </tr>\n",
       "    <tr>\n",
       "      <th>...</th>\n",
       "      <td>...</td>\n",
       "      <td>...</td>\n",
       "      <td>...</td>\n",
       "      <td>...</td>\n",
       "      <td>...</td>\n",
       "      <td>...</td>\n",
       "      <td>...</td>\n",
       "      <td>...</td>\n",
       "      <td>...</td>\n",
       "      <td>...</td>\n",
       "      <td>...</td>\n",
       "      <td>...</td>\n",
       "    </tr>\n",
       "    <tr>\n",
       "      <th>8801</th>\n",
       "      <td>s8802</td>\n",
       "      <td>Movie</td>\n",
       "      <td>Zinzana</td>\n",
       "      <td>Majid Al Ansari</td>\n",
       "      <td>Ali Suliman, Saleh Bakri, Yasa, Ali Al-Jabri, ...</td>\n",
       "      <td>United Arab Emirates, Jordan</td>\n",
       "      <td>March 9, 2016</td>\n",
       "      <td>2015</td>\n",
       "      <td>TV-MA</td>\n",
       "      <td>96 min</td>\n",
       "      <td>Dramas, International Movies, Thrillers</td>\n",
       "      <td>Recovering alcoholic Talal wakes up inside a s...</td>\n",
       "    </tr>\n",
       "    <tr>\n",
       "      <th>8802</th>\n",
       "      <td>s8803</td>\n",
       "      <td>Movie</td>\n",
       "      <td>Zodiac</td>\n",
       "      <td>David Fincher</td>\n",
       "      <td>Mark Ruffalo, Jake Gyllenhaal, Robert Downey J...</td>\n",
       "      <td>United States</td>\n",
       "      <td>November 20, 2019</td>\n",
       "      <td>2007</td>\n",
       "      <td>R</td>\n",
       "      <td>158 min</td>\n",
       "      <td>Cult Movies, Dramas, Thrillers</td>\n",
       "      <td>A political cartoonist, a crime reporter and a...</td>\n",
       "    </tr>\n",
       "    <tr>\n",
       "      <th>8804</th>\n",
       "      <td>s8805</td>\n",
       "      <td>Movie</td>\n",
       "      <td>Zombieland</td>\n",
       "      <td>Ruben Fleischer</td>\n",
       "      <td>Jesse Eisenberg, Woody Harrelson, Emma Stone, ...</td>\n",
       "      <td>United States</td>\n",
       "      <td>November 1, 2019</td>\n",
       "      <td>2009</td>\n",
       "      <td>R</td>\n",
       "      <td>88 min</td>\n",
       "      <td>Comedies, Horror Movies</td>\n",
       "      <td>Looking to survive in a world taken over by zo...</td>\n",
       "    </tr>\n",
       "    <tr>\n",
       "      <th>8805</th>\n",
       "      <td>s8806</td>\n",
       "      <td>Movie</td>\n",
       "      <td>Zoom</td>\n",
       "      <td>Peter Hewitt</td>\n",
       "      <td>Tim Allen, Courteney Cox, Chevy Chase, Kate Ma...</td>\n",
       "      <td>United States</td>\n",
       "      <td>January 11, 2020</td>\n",
       "      <td>2006</td>\n",
       "      <td>PG</td>\n",
       "      <td>88 min</td>\n",
       "      <td>Children &amp; Family Movies, Comedies</td>\n",
       "      <td>Dragged from civilian life, a former superhero...</td>\n",
       "    </tr>\n",
       "    <tr>\n",
       "      <th>8806</th>\n",
       "      <td>s8807</td>\n",
       "      <td>Movie</td>\n",
       "      <td>Zubaan</td>\n",
       "      <td>Mozez Singh</td>\n",
       "      <td>Vicky Kaushal, Sarah-Jane Dias, Raaghav Chanan...</td>\n",
       "      <td>India</td>\n",
       "      <td>March 2, 2019</td>\n",
       "      <td>2015</td>\n",
       "      <td>TV-14</td>\n",
       "      <td>111 min</td>\n",
       "      <td>Dramas, International Movies, Music &amp; Musicals</td>\n",
       "      <td>A scrappy but poor boy worms his way into a ty...</td>\n",
       "    </tr>\n",
       "  </tbody>\n",
       "</table>\n",
       "<p>7961 rows × 12 columns</p>\n",
       "</div>"
      ],
      "text/plain": [
       "     show_id     type                          title         director  \\\n",
       "0         s1    Movie           Dick Johnson Is Dead  Kirsten Johnson   \n",
       "1         s2  TV Show                  Blood & Water          No Data   \n",
       "4         s5  TV Show                   Kota Factory          No Data   \n",
       "7         s8    Movie                        Sankofa     Haile Gerima   \n",
       "8         s9  TV Show  The Great British Baking Show  Andy Devonshire   \n",
       "...      ...      ...                            ...              ...   \n",
       "8801   s8802    Movie                        Zinzana  Majid Al Ansari   \n",
       "8802   s8803    Movie                         Zodiac    David Fincher   \n",
       "8804   s8805    Movie                     Zombieland  Ruben Fleischer   \n",
       "8805   s8806    Movie                           Zoom     Peter Hewitt   \n",
       "8806   s8807    Movie                         Zubaan      Mozez Singh   \n",
       "\n",
       "                                                   cast  \\\n",
       "0                                               No Data   \n",
       "1     Ama Qamata, Khosi Ngema, Gail Mabalane, Thaban...   \n",
       "4     Mayur More, Jitendra Kumar, Ranjan Raj, Alam K...   \n",
       "7     Kofi Ghanaba, Oyafunmike Ogunlano, Alexandra D...   \n",
       "8     Mel Giedroyc, Sue Perkins, Mary Berry, Paul Ho...   \n",
       "...                                                 ...   \n",
       "8801  Ali Suliman, Saleh Bakri, Yasa, Ali Al-Jabri, ...   \n",
       "8802  Mark Ruffalo, Jake Gyllenhaal, Robert Downey J...   \n",
       "8804  Jesse Eisenberg, Woody Harrelson, Emma Stone, ...   \n",
       "8805  Tim Allen, Courteney Cox, Chevy Chase, Kate Ma...   \n",
       "8806  Vicky Kaushal, Sarah-Jane Dias, Raaghav Chanan...   \n",
       "\n",
       "                                                country          date_added  \\\n",
       "0                                         United States  September 25, 2021   \n",
       "1                                          South Africa  September 24, 2021   \n",
       "4                                                 India  September 24, 2021   \n",
       "7     United States, Ghana, Burkina Faso, United Kin...  September 24, 2021   \n",
       "8                                        United Kingdom  September 24, 2021   \n",
       "...                                                 ...                 ...   \n",
       "8801                       United Arab Emirates, Jordan       March 9, 2016   \n",
       "8802                                      United States   November 20, 2019   \n",
       "8804                                      United States    November 1, 2019   \n",
       "8805                                      United States    January 11, 2020   \n",
       "8806                                              India       March 2, 2019   \n",
       "\n",
       "      release_year rating   duration  \\\n",
       "0             2020  PG-13     90 min   \n",
       "1             2021  TV-MA  2 Seasons   \n",
       "4             2021  TV-MA  2 Seasons   \n",
       "7             1993  TV-MA    125 min   \n",
       "8             2021  TV-14  9 Seasons   \n",
       "...            ...    ...        ...   \n",
       "8801          2015  TV-MA     96 min   \n",
       "8802          2007      R    158 min   \n",
       "8804          2009      R     88 min   \n",
       "8805          2006     PG     88 min   \n",
       "8806          2015  TV-14    111 min   \n",
       "\n",
       "                                              listed_in  \\\n",
       "0                                         Documentaries   \n",
       "1       International TV Shows, TV Dramas, TV Mysteries   \n",
       "4     International TV Shows, Romantic TV Shows, TV ...   \n",
       "7      Dramas, Independent Movies, International Movies   \n",
       "8                          British TV Shows, Reality TV   \n",
       "...                                                 ...   \n",
       "8801            Dramas, International Movies, Thrillers   \n",
       "8802                     Cult Movies, Dramas, Thrillers   \n",
       "8804                            Comedies, Horror Movies   \n",
       "8805                 Children & Family Movies, Comedies   \n",
       "8806     Dramas, International Movies, Music & Musicals   \n",
       "\n",
       "                                            description  \n",
       "0     As her father nears the end of his life, filmm...  \n",
       "1     After crossing paths at a party, a Cape Town t...  \n",
       "4     In a city of coaching centers known to train I...  \n",
       "7     On a photo shoot in Ghana, an American model s...  \n",
       "8     A talented batch of amateur bakers face off in...  \n",
       "...                                                 ...  \n",
       "8801  Recovering alcoholic Talal wakes up inside a s...  \n",
       "8802  A political cartoonist, a crime reporter and a...  \n",
       "8804  Looking to survive in a world taken over by zo...  \n",
       "8805  Dragged from civilian life, a former superhero...  \n",
       "8806  A scrappy but poor boy worms his way into a ty...  \n",
       "\n",
       "[7961 rows x 12 columns]"
      ]
     },
     "execution_count": 7,
     "metadata": {},
     "output_type": "execute_result"
    }
   ],
   "source": [
    "netflix"
   ]
  },
  {
   "cell_type": "markdown",
   "id": "5a5231dd",
   "metadata": {},
   "source": [
    "## 4. Data analysis"
   ]
  },
  {
   "cell_type": "markdown",
   "id": "6849a7bf",
   "metadata": {},
   "source": [
    "### 4.1 Movies vs TV \n",
    "We will be comparing the number of Movies to TV shows on Netflix"
   ]
  },
  {
   "cell_type": "code",
   "execution_count": 8,
   "id": "08271e78",
   "metadata": {},
   "outputs": [],
   "source": [
    "netflixShows=netflix[netflix['type']=='TV Show']\n",
    "netflixMovies=netflix[netflix['type']=='Movie']"
   ]
  },
  {
   "cell_type": "code",
   "execution_count": 9,
   "id": "12eefe84",
   "metadata": {},
   "outputs": [
    {
     "data": {
      "image/png": "[encoded data removed]",
      "text/plain": [
       "<Figure size 720x720 with 1 Axes>"
      ]
     },
     "metadata": {
      "needs_background": "light"
     },
     "output_type": "display_data"
    }
   ],
   "source": [
    "plt.figure(figsize=(10,10))\n",
    "sns.set(style=\"darkgrid\")\n",
    "graph = sns.countplot(x=\"type\", data = netflix, palette= \"Set1\")"
   ]
  },
  {
   "cell_type": "markdown",
   "id": "ed381888",
   "metadata": {},
   "source": [
    "Here, we can see there are almost double the number of movies to TV shows."
   ]
  },
  {
   "cell_type": "markdown",
   "id": "ef95f72f",
   "metadata": {},
   "source": [
    "### 4.2 Amount of content by country"
   ]
  },
  {
   "cell_type": "markdown",
   "id": "372cdd80",
   "metadata": {},
   "source": [
    "Under the country column, there are some rows where there are multiple countries name, so to resolve that we will take the first country in that row."
   ]
  },
  {
   "cell_type": "code",
   "execution_count": 10,
   "id": "d6dc223e",
   "metadata": {},
   "outputs": [],
   "source": [
    "#lambda function to split the countries by \" \" and taking the first country\n",
    "netflix[\"firstCountry\"] = netflix[\"country\"].apply(lambda x: x.split(\",\")[0]) \n",
    "\n",
    "netflix['counter'] = 1\n",
    "data = netflix.groupby('firstCountry')['counter'].sum().sort_values(ascending=False)[:8]"
   ]
  },
  {
   "cell_type": "code",
   "execution_count": 11,
   "id": "404435b1",
   "metadata": {},
   "outputs": [
    {
     "data": {
      "text/plain": [
       "Text(0.125, 0.9, 'Top 8 countries on Netflix by amount content')"
      ]
     },
     "execution_count": 11,
     "metadata": {},
     "output_type": "execute_result"
    },
    {
     "data": {
      "image/png": "[encoded data removed]",
      "text/plain": [
       "<Figure size 864x432 with 1 Axes>"
      ]
     },
     "metadata": {},
     "output_type": "display_data"
    }
   ],
   "source": [
    "#Draw figure/ setting colour\n",
    "color = ['#FFFFFF' for i in range(10)]\n",
    "color[0] = color[1]= color[2] = '#0000FF'\n",
    "figure,axis = plt.subplots(1,1,figsize=(12,6))\n",
    "\n",
    "#Annotate figure\n",
    "axis.bar(data.index,data,width=0.5,color=color)\n",
    "for i in data.index:\n",
    "    axis.annotate(f\"{data[i]}\",xy=(i,data[i]+50),va='center',ha='center',fontweight='light',fontfamily='Times New Roman')\n",
    "\n",
    "#Add text\n",
    "figure.text(0.125,0.9,'Top 8 countries on Netflix by amount content',fontsize=20,fontweight='bold',fontfamily='Times New Roman')\n",
    "\n",
    "\n"
   ]
  },
  {
   "cell_type": "markdown",
   "id": "1d53203d",
   "metadata": {},
   "source": [
    "Most of the content are made in the US, this could be due to the fact that Netflix is from the Us."
   ]
  },
  {
   "cell_type": "markdown",
   "id": "47683e5d",
   "metadata": {},
   "source": [
    "### 4.3.1 Movie ratings analysis"
   ]
  },
  {
   "cell_type": "code",
   "execution_count": 12,
   "id": "827e00d8",
   "metadata": {},
   "outputs": [
    {
     "data": {
      "image/png": "[encoded data removed]",
      "text/plain": [
       "<Figure size 1080x720 with 1 Axes>"
      ]
     },
     "metadata": {},
     "output_type": "display_data"
    }
   ],
   "source": [
    "plt.figure(figsize=(15,10))\n",
    "graph = sns.countplot(x=\"rating\", data=netflixMovies, order=netflixMovies['rating'].value_counts().index)"
   ]
  },
  {
   "cell_type": "markdown",
   "id": "8c63d51c",
   "metadata": {},
   "source": [
    "### 4.3.2 TV show ratings analysis"
   ]
  },
  {
   "cell_type": "code",
   "execution_count": 13,
   "id": "f72d0654",
   "metadata": {},
   "outputs": [
    {
     "data": {
      "image/png": "[encoded data removed]",
      "text/plain": [
       "<Figure size 1080x720 with 1 Axes>"
      ]
     },
     "metadata": {},
     "output_type": "display_data"
    }
   ],
   "source": [
    "plt.figure(figsize=(15,10))\n",
    "graph = sns.countplot(x=\"rating\", data=netflixShows, order=netflixShows['rating'].value_counts().index)"
   ]
  },
  {
   "cell_type": "markdown",
   "id": "a9e2b981",
   "metadata": {},
   "source": [
    "Both movies and TV shows have the most mature audience ratings. This tells me that netflix content is more driven towards 17 and above"
   ]
  },
  {
   "cell_type": "markdown",
   "id": "69709b90",
   "metadata": {},
   "source": [
    "### 4.4.1 No. of Movie released\n"
   ]
  },
  {
   "cell_type": "code",
   "execution_count": 14,
   "id": "94ad4d20",
   "metadata": {},
   "outputs": [
    {
     "data": {
      "image/png": "[encoded data removed]",
      "text/plain": [
       "<Figure size 1080x720 with 1 Axes>"
      ]
     },
     "metadata": {},
     "output_type": "display_data"
    }
   ],
   "source": [
    "plt.figure(figsize=(15,10))\n",
    "graph = sns.countplot(y=\"release_year\", data=netflixMovies, palette=\"tab10\", order=netflixMovies['release_year'].value_counts().index[0:15])"
   ]
  },
  {
   "cell_type": "markdown",
   "id": "1481e62e",
   "metadata": {},
   "source": [
    "### 4.4.2 No. of TV shows released"
   ]
  },
  {
   "cell_type": "code",
   "execution_count": 15,
   "id": "2e1ed442",
   "metadata": {},
   "outputs": [
    {
     "data": {
      "image/png": "[encoded data removed]",
      "text/plain": [
       "<Figure size 1080x720 with 1 Axes>"
      ]
     },
     "metadata": {},
     "output_type": "display_data"
    }
   ],
   "source": [
    "plt.figure(figsize=(15,10))\n",
    "graph = sns.countplot(y=\"release_year\", data=netflixShows, palette=\"tab10\", order=netflixShows['release_year'].value_counts().index[0:15])"
   ]
  },
  {
   "cell_type": "markdown",
   "id": "931475f6",
   "metadata": {},
   "source": [
    "\n",
    "2017 was the year with most movies released and 2020 with the most TV shows. I can also assume those are the years Netflix produced the most amount of movies and TV shows respectively."
   ]
  },
  {
   "cell_type": "markdown",
   "id": "c9455f42",
   "metadata": {},
   "source": [
    "### 4.5 TV shows with longest season"
   ]
  },
  {
   "cell_type": "code",
   "execution_count": 16,
   "id": "a967be2e",
   "metadata": {},
   "outputs": [
    {
     "name": "stderr",
     "output_type": "stream",
     "text": [
      "/var/folders/63/48hcdx8x3_s9lh_x2yvfm0kc0000gn/T/ipykernel_4234/1815439773.py:2: SettingWithCopyWarning: \n",
      "A value is trying to be set on a copy of a slice from a DataFrame.\n",
      "Try using .loc[row_indexer,col_indexer] = value instead\n",
      "\n",
      "See the caveats in the documentation: https://pandas.pydata.org/pandas-docs/stable/user_guide/indexing.html#returning-a-view-versus-a-copy\n",
      "  netflixMovies['duration']=netflixMovies['duration'].str.replace(' min','')\n",
      "/var/folders/63/48hcdx8x3_s9lh_x2yvfm0kc0000gn/T/ipykernel_4234/1815439773.py:5: SettingWithCopyWarning: \n",
      "A value is trying to be set on a copy of a slice from a DataFrame.\n",
      "Try using .loc[row_indexer,col_indexer] = value instead\n",
      "\n",
      "See the caveats in the documentation: https://pandas.pydata.org/pandas-docs/stable/user_guide/indexing.html#returning-a-view-versus-a-copy\n",
      "  netflixMovies['duration']=netflixMovies['duration'].astype(str).astype(int)\n"
     ]
    }
   ],
   "source": [
    "#replace min in \"duration\" with \" \"\n",
    "netflixMovies['duration']=netflixMovies['duration'].str.replace(' min','')\n",
    "\n",
    "#convert string to integer\n",
    "netflixMovies['duration']=netflixMovies['duration'].astype(str).astype(int)"
   ]
  },
  {
   "cell_type": "code",
   "execution_count": 17,
   "id": "0bf63074",
   "metadata": {},
   "outputs": [
    {
     "name": "stderr",
     "output_type": "stream",
     "text": [
      "/var/folders/63/48hcdx8x3_s9lh_x2yvfm0kc0000gn/T/ipykernel_4234/4089118336.py:3: SettingWithCopyWarning: \n",
      "A value is trying to be set on a copy of a slice from a DataFrame.\n",
      "Try using .loc[row_indexer,col_indexer] = value instead\n",
      "\n",
      "See the caveats in the documentation: https://pandas.pydata.org/pandas-docs/stable/user_guide/indexing.html#returning-a-view-versus-a-copy\n",
      "  showLength['noOfSeasons'] = showLength['duration'].str.replace('Season','')\n",
      "/var/folders/63/48hcdx8x3_s9lh_x2yvfm0kc0000gn/T/ipykernel_4234/4089118336.py:4: SettingWithCopyWarning: \n",
      "A value is trying to be set on a copy of a slice from a DataFrame.\n",
      "Try using .loc[row_indexer,col_indexer] = value instead\n",
      "\n",
      "See the caveats in the documentation: https://pandas.pydata.org/pandas-docs/stable/user_guide/indexing.html#returning-a-view-versus-a-copy\n",
      "  showLength['noOfSeasons'] = showLength['noOfSeasons'].str.replace('s','')\n",
      "/var/folders/63/48hcdx8x3_s9lh_x2yvfm0kc0000gn/T/ipykernel_4234/4089118336.py:7: SettingWithCopyWarning: \n",
      "A value is trying to be set on a copy of a slice from a DataFrame.\n",
      "Try using .loc[row_indexer,col_indexer] = value instead\n",
      "\n",
      "See the caveats in the documentation: https://pandas.pydata.org/pandas-docs/stable/user_guide/indexing.html#returning-a-view-versus-a-copy\n",
      "  showLength['noOfSeasons'] = showLength['noOfSeasons'].astype(str).astype(int)\n"
     ]
    }
   ],
   "source": [
    "showLength = netflixShows[['title','duration']]\n",
    "#replace Season and s in with \" \"\n",
    "showLength['noOfSeasons'] = showLength['duration'].str.replace('Season','')\n",
    "showLength['noOfSeasons'] = showLength['noOfSeasons'].str.replace('s','')\n",
    "\n",
    "#convert string to integer\n",
    "showLength['noOfSeasons'] = showLength['noOfSeasons'].astype(str).astype(int)"
   ]
  },
  {
   "cell_type": "code",
   "execution_count": 18,
   "id": "65598e87",
   "metadata": {},
   "outputs": [],
   "source": [
    "topShows = showLength[['title','noOfSeasons']]\n",
    "topShows = topShows.sort_values(by='noOfSeasons', ascending=False)"
   ]
  },
  {
   "cell_type": "code",
   "execution_count": 19,
   "id": "006ebcf6",
   "metadata": {},
   "outputs": [
    {
     "data": {
      "text/plain": [
       "<AxesSubplot:xlabel='title'>"
      ]
     },
     "execution_count": 19,
     "metadata": {},
     "output_type": "execute_result"
    },
    {
     "data": {
      "text/plain": [
       "<Figure size 1080x720 with 0 Axes>"
      ]
     },
     "metadata": {},
     "output_type": "display_data"
    },
    {
     "data": {
      "image/png": "[encoded data removed]",
      "text/plain": [
       "<Figure size 432x288 with 1 Axes>"
      ]
     },
     "metadata": {},
     "output_type": "display_data"
    }
   ],
   "source": [
    "first10 = topShows[0:10]\n",
    "plt.figure(figsize = (15,10))\n",
    "first10.plot(kind ='bar',x ='title',y = 'noOfSeasons', color='blue')"
   ]
  },
  {
   "cell_type": "markdown",
   "id": "1d8a6616",
   "metadata": {},
   "source": [
    "The bar graph shows the top 10 TV shows with the longest season with each show having at least 10 seasons."
   ]
  },
  {
   "cell_type": "markdown",
   "id": "dafbdaba",
   "metadata": {},
   "source": [
    "### 4.6.1 Average movie duration\n"
   ]
  },
  {
   "cell_type": "code",
   "execution_count": 20,
   "id": "330cf979",
   "metadata": {},
   "outputs": [
    {
     "data": {
      "text/plain": [
       "[Text(0.5, 0, 'Duration(mins)'), Text(0, 0.5, 'Density')]"
      ]
     },
     "execution_count": 20,
     "metadata": {},
     "output_type": "execute_result"
    },
    {
     "data": {
      "image/png": "[encoded data removed]",
      "text/plain": [
       "<Figure size 1080x720 with 1 Axes>"
      ]
     },
     "metadata": {},
     "output_type": "display_data"
    }
   ],
   "source": [
    "plt.figure(figsize = (15,10))\n",
    "graph = sns.kdeplot(data=netflixMovies['duration'], fill=True)\n",
    "graph.set(xlabel =\"Duration(mins)\", ylabel = \"Density\")"
   ]
  },
  {
   "cell_type": "markdown",
   "id": "ff2a3d43",
   "metadata": {},
   "source": [
    "### 4.6.2 Average TV shows duration"
   ]
  },
  {
   "cell_type": "code",
   "execution_count": 21,
   "id": "362aba10",
   "metadata": {},
   "outputs": [
    {
     "data": {
      "text/plain": [
       "[Text(0.5, 0, 'Seasons'), Text(0, 0.5, 'Density')]"
      ]
     },
     "execution_count": 21,
     "metadata": {},
     "output_type": "execute_result"
    },
    {
     "data": {
      "image/png": "[encoded data removed]",
      "text/plain": [
       "<Figure size 1080x720 with 1 Axes>"
      ]
     },
     "metadata": {},
     "output_type": "display_data"
    }
   ],
   "source": [
    "plt.figure(figsize = (15,10))\n",
    "graph = sns.kdeplot(data = showLength['noOfSeasons'], fill=True)\n",
    "graph.set(xlabel =\"Seasons\", ylabel = \"Density\")"
   ]
  },
  {
   "cell_type": "markdown",
   "id": "3749358e",
   "metadata": {},
   "source": [
    "Based on the kernel density estimate plot, an average movie length lasts around 90-100 mins and an average TV Show last 1 season. I can infer that only Tv shows with high ratings will have more than 1 season which is rare."
   ]
  },
  {
   "cell_type": "markdown",
   "id": "d54c3015",
   "metadata": {},
   "source": [
    "## 5. Conclusion\n",
    "Based on our data analysis, I was able to infer the relationships and trends based on the data.\n",
    "If I were given more data such as content ratings, such as 1 -5 stars I would be able to delve in deeper and get a clearer analysis."
   ]
  },
  {
   "cell_type": "markdown",
   "id": "9e23e4bf",
   "metadata": {},
   "source": [
    "## 6. References \n",
    "seaborn \n",
    "- https://seaborn.pydata.org/api.html\n",
    "- NeuralNine (17 Apr 2022) Seaborn Is The Easier Matplotlib [online] Avialable: https://www.youtube.com/watch?v=ooqXQ37XHMM\n",
    "- Kimberly Fessel (30 Jun 2020) What is kernel density estimation? And how to build a KDE plot in Python? | Seaborn KDEplot [online] Avialable: https://www.youtube.com/watch?v=DCgPRaIDYXA&t=384s\n",
    "\n",
    "Matplotlib\n",
    "- https://matplotlib.org/stable/api/index\n",
    "\n",
    "plotly\n",
    "- https://plotly.com/python-api-reference/generated/plotly.graph_objects.Figure.html\n",
    "\n",
    "netflix data set\n",
    "- SHIVAM BANSAL (Oct 2021) Netflix Movies and TV Shows [online] Avialable: https://www.kaggle.com/datasets/shivamb/netflix-shows\n"
   ]
  },
  {
   "cell_type": "code",
   "execution_count": null,
   "id": "31fd1c63",
   "metadata": {},
   "outputs": [],
   "source": []
  }
 ],
 "metadata": {
  "kernelspec": {
   "display_name": "Python 3 (ipykernel)",
   "language": "python",
   "name": "python3"
  },
  "language_info": {
   "codemirror_mode": {
    "name": "ipython",
    "version": 3
   },
   "file_extension": ".py",
   "mimetype": "text/x-python",
   "name": "python",
   "nbconvert_exporter": "python",
   "pygments_lexer": "ipython3",
   "version": "3.9.7"
  }
 },
 "nbformat": 4,
 "nbformat_minor": 5
}
